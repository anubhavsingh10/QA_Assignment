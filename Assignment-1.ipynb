{
 "cells": [
  {
   "cell_type": "markdown",
   "metadata": {},
   "source": [
    "# Importing Libraries"
   ]
  },
  {
   "cell_type": "code",
   "execution_count": 6,
   "metadata": {},
   "outputs": [],
   "source": [
    "import pandas as pd\n",
    "import numpy as np \n",
    "import requests\n",
    "import wget\n",
    "import zipfile\n",
    "import os\n",
    "import datetime"
   ]
  },
  {
   "cell_type": "code",
   "execution_count": 7,
   "metadata": {},
   "outputs": [],
   "source": [
    "start_date = datetime.date(2022, 3, 1)\n",
    "end_date = datetime.date(2022, 3,3)\n",
    "symbol = \"BTCUSDT\"\n",
    "cur = os.getcwd()\n"
   ]
  },
  {
   "cell_type": "code",
   "execution_count": 8,
   "metadata": {},
   "outputs": [],
   "source": [
    "def getdata(start_date,end_date,symbol):\n",
    "    df = pd.DataFrame(columns = ['trade Id', 'price', 'qty', 'quoteQty', 'time', 'isBuyerMaker', 'isBestMatch'])\n",
    "    headings = ['trade Id', 'price', 'qty', 'quoteQty', 'time', 'isBuyerMaker', 'isBestMatch']\n",
    "    cur = os.getcwd()\n",
    "    delta = datetime.timedelta(days=1)\n",
    "\n",
    "\n",
    "\n",
    "    while (start_date <= end_date):\n",
    "        url = \"https://data.binance.vision/data/spot/daily/trades/BTCUSDT/BTCUSDT-trades-\"+str(start_date)+\".zip\"\n",
    "        wget.download(url,out=cur+\"\\\\data\")\n",
    "        zf = zipfile.ZipFile(f'{cur}\\\\data\\\\BTCUSDT-trades-{start_date}.zip')\n",
    "        data = pd.read_csv(zf.open(f'BTCUSDT-trades-{start_date}.csv'),names=headings,header=None)\n",
    "        \n",
    "        df = pd.concat([df,data]) \n",
    "        print(start_date, end=\"\\n\")\n",
    "        start_date += delta\n",
    "\n",
    "\n",
    "    df.to_csv(cur+\"\\\\data\\\\data.csv\")\n",
    "    return df"
   ]
  },
  {
   "cell_type": "code",
   "execution_count": 9,
   "metadata": {},
   "outputs": [
    {
     "name": "stdout",
     "output_type": "stream",
     "text": [
      "File is already stored...\n",
      "Retriveing the file......\n"
     ]
    }
   ],
   "source": [
    "from pathlib import Path\n",
    "\n",
    "my_file = Path(cur+\"\\\\data\\\\data.zip\")\n",
    "if my_file.is_file():\n",
    "    print (\"File is already stored...\")\n",
    "    print (\"Retriveing the file......\")\n",
    "    df = pd.read_csv(cur+\"\\\\data\\\\data.zip\")\n",
    "else:\n",
    "    df = getdata(start_date,end_date,symbol)"
   ]
  },
  {
   "cell_type": "code",
   "execution_count": 10,
   "metadata": {},
   "outputs": [
    {
     "name": "stderr",
     "output_type": "stream",
     "text": [
      "C:\\Users\\Anubhav\\AppData\\Local\\Temp/ipykernel_12560/3812631323.py:1: FutureWarning: In a future version of pandas all arguments of DataFrame.drop except for the argument 'labels' will be keyword-only\n",
      "  df = df.drop('Unnamed: 0', 1)\n"
     ]
    }
   ],
   "source": [
    "df = df.drop('Unnamed: 0', 1)"
   ]
  },
  {
   "cell_type": "code",
   "execution_count": 11,
   "metadata": {},
   "outputs": [
    {
     "data": {
      "text/html": [
       "<div>\n",
       "<style scoped>\n",
       "    .dataframe tbody tr th:only-of-type {\n",
       "        vertical-align: middle;\n",
       "    }\n",
       "\n",
       "    .dataframe tbody tr th {\n",
       "        vertical-align: top;\n",
       "    }\n",
       "\n",
       "    .dataframe thead th {\n",
       "        text-align: right;\n",
       "    }\n",
       "</style>\n",
       "<table border=\"1\" class=\"dataframe\">\n",
       "  <thead>\n",
       "    <tr style=\"text-align: right;\">\n",
       "      <th></th>\n",
       "      <th>trade Id</th>\n",
       "      <th>price</th>\n",
       "      <th>qty</th>\n",
       "      <th>quoteQty</th>\n",
       "      <th>time</th>\n",
       "      <th>isBuyerMaker</th>\n",
       "      <th>isBestMatch</th>\n",
       "    </tr>\n",
       "  </thead>\n",
       "  <tbody>\n",
       "    <tr>\n",
       "      <th>0</th>\n",
       "      <td>1274557543</td>\n",
       "      <td>43160.00</td>\n",
       "      <td>0.00056</td>\n",
       "      <td>24.169600</td>\n",
       "      <td>1646092800000</td>\n",
       "      <td>True</td>\n",
       "      <td>True</td>\n",
       "    </tr>\n",
       "    <tr>\n",
       "      <th>1</th>\n",
       "      <td>1274557544</td>\n",
       "      <td>43160.01</td>\n",
       "      <td>0.00052</td>\n",
       "      <td>22.443205</td>\n",
       "      <td>1646092800003</td>\n",
       "      <td>False</td>\n",
       "      <td>True</td>\n",
       "    </tr>\n",
       "    <tr>\n",
       "      <th>2</th>\n",
       "      <td>1274557545</td>\n",
       "      <td>43160.01</td>\n",
       "      <td>0.00182</td>\n",
       "      <td>78.551218</td>\n",
       "      <td>1646092800004</td>\n",
       "      <td>False</td>\n",
       "      <td>True</td>\n",
       "    </tr>\n",
       "    <tr>\n",
       "      <th>3</th>\n",
       "      <td>1274557546</td>\n",
       "      <td>43160.01</td>\n",
       "      <td>0.00631</td>\n",
       "      <td>272.339663</td>\n",
       "      <td>1646092800005</td>\n",
       "      <td>False</td>\n",
       "      <td>True</td>\n",
       "    </tr>\n",
       "    <tr>\n",
       "      <th>4</th>\n",
       "      <td>1274557547</td>\n",
       "      <td>43160.00</td>\n",
       "      <td>0.00229</td>\n",
       "      <td>98.836400</td>\n",
       "      <td>1646092800006</td>\n",
       "      <td>True</td>\n",
       "      <td>True</td>\n",
       "    </tr>\n",
       "    <tr>\n",
       "      <th>...</th>\n",
       "      <td>...</td>\n",
       "      <td>...</td>\n",
       "      <td>...</td>\n",
       "      <td>...</td>\n",
       "      <td>...</td>\n",
       "      <td>...</td>\n",
       "      <td>...</td>\n",
       "    </tr>\n",
       "    <tr>\n",
       "      <th>2871280</th>\n",
       "      <td>1277428823</td>\n",
       "      <td>44736.04</td>\n",
       "      <td>0.08083</td>\n",
       "      <td>3616.014113</td>\n",
       "      <td>1646233096536</td>\n",
       "      <td>False</td>\n",
       "      <td>True</td>\n",
       "    </tr>\n",
       "    <tr>\n",
       "      <th>2871281</th>\n",
       "      <td>1277428824</td>\n",
       "      <td>44736.04</td>\n",
       "      <td>0.08864</td>\n",
       "      <td>3965.402586</td>\n",
       "      <td>1646233096536</td>\n",
       "      <td>False</td>\n",
       "      <td>True</td>\n",
       "    </tr>\n",
       "    <tr>\n",
       "      <th>2871282</th>\n",
       "      <td>1277428825</td>\n",
       "      <td>44737.45</td>\n",
       "      <td>0.00535</td>\n",
       "      <td>239.345358</td>\n",
       "      <td>1646233096556</td>\n",
       "      <td>True</td>\n",
       "      <td>True</td>\n",
       "    </tr>\n",
       "    <tr>\n",
       "      <th>2871283</th>\n",
       "      <td>1277428826</td>\n",
       "      <td>44737.45</td>\n",
       "      <td>0.00167</td>\n",
       "      <td>74.711541</td>\n",
       "      <td>1646233096567</td>\n",
       "      <td>True</td>\n",
       "      <td>True</td>\n",
       "    </tr>\n",
       "    <tr>\n",
       "      <th>2871284</th>\n",
       "      <td>1277428827</td>\n",
       "      <td>44737.46</td>\n",
       "      <td>0.20089</td>\n",
       "      <td>8987.308339</td>\n",
       "      <td>1646233096571</td>\n",
       "      <td>False</td>\n",
       "      <td>True</td>\n",
       "    </tr>\n",
       "  </tbody>\n",
       "</table>\n",
       "<p>2871285 rows × 7 columns</p>\n",
       "</div>"
      ],
      "text/plain": [
       "           trade Id     price      qty     quoteQty           time  \\\n",
       "0        1274557543  43160.00  0.00056    24.169600  1646092800000   \n",
       "1        1274557544  43160.01  0.00052    22.443205  1646092800003   \n",
       "2        1274557545  43160.01  0.00182    78.551218  1646092800004   \n",
       "3        1274557546  43160.01  0.00631   272.339663  1646092800005   \n",
       "4        1274557547  43160.00  0.00229    98.836400  1646092800006   \n",
       "...             ...       ...      ...          ...            ...   \n",
       "2871280  1277428823  44736.04  0.08083  3616.014113  1646233096536   \n",
       "2871281  1277428824  44736.04  0.08864  3965.402586  1646233096536   \n",
       "2871282  1277428825  44737.45  0.00535   239.345358  1646233096556   \n",
       "2871283  1277428826  44737.45  0.00167    74.711541  1646233096567   \n",
       "2871284  1277428827  44737.46  0.20089  8987.308339  1646233096571   \n",
       "\n",
       "         isBuyerMaker  isBestMatch  \n",
       "0                True         True  \n",
       "1               False         True  \n",
       "2               False         True  \n",
       "3               False         True  \n",
       "4                True         True  \n",
       "...               ...          ...  \n",
       "2871280         False         True  \n",
       "2871281         False         True  \n",
       "2871282          True         True  \n",
       "2871283          True         True  \n",
       "2871284         False         True  \n",
       "\n",
       "[2871285 rows x 7 columns]"
      ]
     },
     "execution_count": 11,
     "metadata": {},
     "output_type": "execute_result"
    }
   ],
   "source": [
    "df"
   ]
  }
 ],
 "metadata": {
  "interpreter": {
   "hash": "1756915dda85bb946b629be2f32a348e486d6e88582590ce3224ff964c7a2b4d"
  },
  "kernelspec": {
   "display_name": "Python 3.9.6 64-bit",
   "language": "python",
   "name": "python3"
  },
  "language_info": {
   "codemirror_mode": {
    "name": "ipython",
    "version": 3
   },
   "file_extension": ".py",
   "mimetype": "text/x-python",
   "name": "python",
   "nbconvert_exporter": "python",
   "pygments_lexer": "ipython3",
   "version": "3.9.6"
  },
  "orig_nbformat": 4
 },
 "nbformat": 4,
 "nbformat_minor": 2
}
