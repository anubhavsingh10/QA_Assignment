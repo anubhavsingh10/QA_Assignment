{
 "cells": [
  {
   "cell_type": "markdown",
   "metadata": {},
   "source": [
    "# Importing Libraries"
   ]
  },
  {
   "cell_type": "code",
   "execution_count": 41,
   "metadata": {},
   "outputs": [],
   "source": [
    "import pandas as pd\n",
    "import numpy as np\n",
    "import os\n",
    "import seaborn as sns\n",
    "import matplotlib.pyplot as plt"
   ]
  },
  {
   "cell_type": "code",
   "execution_count": 42,
   "metadata": {},
   "outputs": [],
   "source": [
    "cur = os.getcwd()"
   ]
  },
  {
   "cell_type": "code",
   "execution_count": 43,
   "metadata": {},
   "outputs": [
    {
     "name": "stderr",
     "output_type": "stream",
     "text": [
      "C:\\Users\\Anubhav\\AppData\\Local\\Temp/ipykernel_17276/1479601220.py:2: FutureWarning: In a future version of pandas all arguments of DataFrame.drop except for the argument 'labels' will be keyword-only\n",
      "  df = df.drop('Unnamed: 0', 1)\n"
     ]
    }
   ],
   "source": [
    "df = pd.read_csv(cur+\"\\\\data\\\\data.zip\")\n",
    "df = df.drop('Unnamed: 0', 1)"
   ]
  },
  {
   "cell_type": "code",
   "execution_count": 44,
   "metadata": {},
   "outputs": [
    {
     "data": {
      "text/html": [
       "<div>\n",
       "<style scoped>\n",
       "    .dataframe tbody tr th:only-of-type {\n",
       "        vertical-align: middle;\n",
       "    }\n",
       "\n",
       "    .dataframe tbody tr th {\n",
       "        vertical-align: top;\n",
       "    }\n",
       "\n",
       "    .dataframe thead th {\n",
       "        text-align: right;\n",
       "    }\n",
       "</style>\n",
       "<table border=\"1\" class=\"dataframe\">\n",
       "  <thead>\n",
       "    <tr style=\"text-align: right;\">\n",
       "      <th></th>\n",
       "      <th>trade Id</th>\n",
       "      <th>price</th>\n",
       "      <th>qty</th>\n",
       "      <th>quoteQty</th>\n",
       "      <th>time</th>\n",
       "      <th>isBuyerMaker</th>\n",
       "      <th>isBestMatch</th>\n",
       "    </tr>\n",
       "  </thead>\n",
       "  <tbody>\n",
       "    <tr>\n",
       "      <th>0</th>\n",
       "      <td>1274557543</td>\n",
       "      <td>43160.00</td>\n",
       "      <td>0.00056</td>\n",
       "      <td>24.169600</td>\n",
       "      <td>1646092800000</td>\n",
       "      <td>True</td>\n",
       "      <td>True</td>\n",
       "    </tr>\n",
       "    <tr>\n",
       "      <th>1</th>\n",
       "      <td>1274557544</td>\n",
       "      <td>43160.01</td>\n",
       "      <td>0.00052</td>\n",
       "      <td>22.443205</td>\n",
       "      <td>1646092800003</td>\n",
       "      <td>False</td>\n",
       "      <td>True</td>\n",
       "    </tr>\n",
       "    <tr>\n",
       "      <th>2</th>\n",
       "      <td>1274557545</td>\n",
       "      <td>43160.01</td>\n",
       "      <td>0.00182</td>\n",
       "      <td>78.551218</td>\n",
       "      <td>1646092800004</td>\n",
       "      <td>False</td>\n",
       "      <td>True</td>\n",
       "    </tr>\n",
       "    <tr>\n",
       "      <th>3</th>\n",
       "      <td>1274557546</td>\n",
       "      <td>43160.01</td>\n",
       "      <td>0.00631</td>\n",
       "      <td>272.339663</td>\n",
       "      <td>1646092800005</td>\n",
       "      <td>False</td>\n",
       "      <td>True</td>\n",
       "    </tr>\n",
       "    <tr>\n",
       "      <th>4</th>\n",
       "      <td>1274557547</td>\n",
       "      <td>43160.00</td>\n",
       "      <td>0.00229</td>\n",
       "      <td>98.836400</td>\n",
       "      <td>1646092800006</td>\n",
       "      <td>True</td>\n",
       "      <td>True</td>\n",
       "    </tr>\n",
       "    <tr>\n",
       "      <th>...</th>\n",
       "      <td>...</td>\n",
       "      <td>...</td>\n",
       "      <td>...</td>\n",
       "      <td>...</td>\n",
       "      <td>...</td>\n",
       "      <td>...</td>\n",
       "      <td>...</td>\n",
       "    </tr>\n",
       "    <tr>\n",
       "      <th>2871280</th>\n",
       "      <td>1277428823</td>\n",
       "      <td>44736.04</td>\n",
       "      <td>0.08083</td>\n",
       "      <td>3616.014113</td>\n",
       "      <td>1646233096536</td>\n",
       "      <td>False</td>\n",
       "      <td>True</td>\n",
       "    </tr>\n",
       "    <tr>\n",
       "      <th>2871281</th>\n",
       "      <td>1277428824</td>\n",
       "      <td>44736.04</td>\n",
       "      <td>0.08864</td>\n",
       "      <td>3965.402586</td>\n",
       "      <td>1646233096536</td>\n",
       "      <td>False</td>\n",
       "      <td>True</td>\n",
       "    </tr>\n",
       "    <tr>\n",
       "      <th>2871282</th>\n",
       "      <td>1277428825</td>\n",
       "      <td>44737.45</td>\n",
       "      <td>0.00535</td>\n",
       "      <td>239.345358</td>\n",
       "      <td>1646233096556</td>\n",
       "      <td>True</td>\n",
       "      <td>True</td>\n",
       "    </tr>\n",
       "    <tr>\n",
       "      <th>2871283</th>\n",
       "      <td>1277428826</td>\n",
       "      <td>44737.45</td>\n",
       "      <td>0.00167</td>\n",
       "      <td>74.711541</td>\n",
       "      <td>1646233096567</td>\n",
       "      <td>True</td>\n",
       "      <td>True</td>\n",
       "    </tr>\n",
       "    <tr>\n",
       "      <th>2871284</th>\n",
       "      <td>1277428827</td>\n",
       "      <td>44737.46</td>\n",
       "      <td>0.20089</td>\n",
       "      <td>8987.308339</td>\n",
       "      <td>1646233096571</td>\n",
       "      <td>False</td>\n",
       "      <td>True</td>\n",
       "    </tr>\n",
       "  </tbody>\n",
       "</table>\n",
       "<p>2871285 rows × 7 columns</p>\n",
       "</div>"
      ],
      "text/plain": [
       "           trade Id     price      qty     quoteQty           time  \\\n",
       "0        1274557543  43160.00  0.00056    24.169600  1646092800000   \n",
       "1        1274557544  43160.01  0.00052    22.443205  1646092800003   \n",
       "2        1274557545  43160.01  0.00182    78.551218  1646092800004   \n",
       "3        1274557546  43160.01  0.00631   272.339663  1646092800005   \n",
       "4        1274557547  43160.00  0.00229    98.836400  1646092800006   \n",
       "...             ...       ...      ...          ...            ...   \n",
       "2871280  1277428823  44736.04  0.08083  3616.014113  1646233096536   \n",
       "2871281  1277428824  44736.04  0.08864  3965.402586  1646233096536   \n",
       "2871282  1277428825  44737.45  0.00535   239.345358  1646233096556   \n",
       "2871283  1277428826  44737.45  0.00167    74.711541  1646233096567   \n",
       "2871284  1277428827  44737.46  0.20089  8987.308339  1646233096571   \n",
       "\n",
       "         isBuyerMaker  isBestMatch  \n",
       "0                True         True  \n",
       "1               False         True  \n",
       "2               False         True  \n",
       "3               False         True  \n",
       "4                True         True  \n",
       "...               ...          ...  \n",
       "2871280         False         True  \n",
       "2871281         False         True  \n",
       "2871282          True         True  \n",
       "2871283          True         True  \n",
       "2871284         False         True  \n",
       "\n",
       "[2871285 rows x 7 columns]"
      ]
     },
     "execution_count": 44,
     "metadata": {},
     "output_type": "execute_result"
    }
   ],
   "source": [
    "df"
   ]
  },
  {
   "cell_type": "markdown",
   "metadata": {},
   "source": [
    "# Basic Logic of Market Making System"
   ]
  },
  {
   "cell_type": "code",
   "execution_count": 45,
   "metadata": {},
   "outputs": [
    {
     "data": {
      "text/plain": [
       "'\\nvalue = (bid+ask) /2\\nspread = (ask-bid)+profit_target\\nskew = -position*risk_adjustment\\n\\n\\nbuy_quote=value+skew - spread\\nsell_quote = value + skew + spread\\n\\n\\nIn this problem,\\n\\nbid = value*99.97/100\\nask = value*100.03/100\\n\\nspread = value*0.06/100 + value*0.03/100\\nspread = 0.09*value/100\\n\\nskew = -0*1=0\\nskew = -1\\nskew = -2\\nskew = -3\\nskew = -4 (5th Position)\\n\\nIn order \\n\\nbuy_quote (nth position) = 99.91*value/100 + skew(n_position)\\nsell_quote (nth position) = 100.09*value/100 + skew(n_position)\\n\\n'"
      ]
     },
     "execution_count": 45,
     "metadata": {},
     "output_type": "execute_result"
    }
   ],
   "source": [
    "\"\"\"\n",
    "value = (bid+ask) /2\n",
    "spread = (ask-bid)+profit_target\n",
    "skew = -position*risk_adjustment\n",
    "\n",
    "\n",
    "buy_quote=value+skew - spread\n",
    "sell_quote = value + skew + spread\n",
    "\n",
    "\n",
    "In this problem,\n",
    "\n",
    "bid = value*99.97/100\n",
    "ask = value*100.03/100\n",
    "\n",
    "spread = value*0.06/100 + value*0.03/100\n",
    "spread = 0.09*value/100\n",
    "\n",
    "skew = -0*1=0\n",
    "skew = -1\n",
    "skew = -2\n",
    "skew = -3\n",
    "skew = -4 (5th Position)\n",
    "\n",
    "In order \n",
    "\n",
    "buy_quote (nth position) = 99.91*value/100 + skew(n_position)\n",
    "sell_quote (nth position) = 100.09*value/100 + skew(n_position)\n",
    "\n",
    "\"\"\"\n",
    "\n"
   ]
  },
  {
   "cell_type": "code",
   "execution_count": 46,
   "metadata": {},
   "outputs": [],
   "source": [
    "df['bid_quote']=df['price']*99.97/100\n",
    "df['ask_quote']=df['price']*100.03/100"
   ]
  },
  {
   "cell_type": "code",
   "execution_count": 47,
   "metadata": {},
   "outputs": [],
   "source": [
    "df.drop(df[df['quoteQty']<1000].index,inplace=True)"
   ]
  },
  {
   "cell_type": "markdown",
   "metadata": {},
   "source": [
    "# Final DataFrame File"
   ]
  },
  {
   "cell_type": "code",
   "execution_count": 48,
   "metadata": {},
   "outputs": [
    {
     "data": {
      "text/html": [
       "<div>\n",
       "<style scoped>\n",
       "    .dataframe tbody tr th:only-of-type {\n",
       "        vertical-align: middle;\n",
       "    }\n",
       "\n",
       "    .dataframe tbody tr th {\n",
       "        vertical-align: top;\n",
       "    }\n",
       "\n",
       "    .dataframe thead th {\n",
       "        text-align: right;\n",
       "    }\n",
       "</style>\n",
       "<table border=\"1\" class=\"dataframe\">\n",
       "  <thead>\n",
       "    <tr style=\"text-align: right;\">\n",
       "      <th></th>\n",
       "      <th>trade Id</th>\n",
       "      <th>price</th>\n",
       "      <th>qty</th>\n",
       "      <th>quoteQty</th>\n",
       "      <th>time</th>\n",
       "      <th>isBuyerMaker</th>\n",
       "      <th>isBestMatch</th>\n",
       "      <th>bid_quote</th>\n",
       "      <th>ask_quote</th>\n",
       "    </tr>\n",
       "  </thead>\n",
       "  <tbody>\n",
       "    <tr>\n",
       "      <th>8</th>\n",
       "      <td>1274557551</td>\n",
       "      <td>43160.01</td>\n",
       "      <td>0.02358</td>\n",
       "      <td>1017.713036</td>\n",
       "      <td>1646092800010</td>\n",
       "      <td>False</td>\n",
       "      <td>True</td>\n",
       "      <td>43147.061997</td>\n",
       "      <td>43172.958003</td>\n",
       "    </tr>\n",
       "    <tr>\n",
       "      <th>9</th>\n",
       "      <td>1274557552</td>\n",
       "      <td>43160.01</td>\n",
       "      <td>0.02329</td>\n",
       "      <td>1005.196633</td>\n",
       "      <td>1646092800010</td>\n",
       "      <td>False</td>\n",
       "      <td>True</td>\n",
       "      <td>43147.061997</td>\n",
       "      <td>43172.958003</td>\n",
       "    </tr>\n",
       "    <tr>\n",
       "      <th>12</th>\n",
       "      <td>1274557555</td>\n",
       "      <td>43160.00</td>\n",
       "      <td>0.04072</td>\n",
       "      <td>1757.475200</td>\n",
       "      <td>1646092800045</td>\n",
       "      <td>True</td>\n",
       "      <td>True</td>\n",
       "      <td>43147.052000</td>\n",
       "      <td>43172.948000</td>\n",
       "    </tr>\n",
       "    <tr>\n",
       "      <th>22</th>\n",
       "      <td>1274557565</td>\n",
       "      <td>43156.43</td>\n",
       "      <td>0.02362</td>\n",
       "      <td>1019.354877</td>\n",
       "      <td>1646092800045</td>\n",
       "      <td>True</td>\n",
       "      <td>True</td>\n",
       "      <td>43143.483071</td>\n",
       "      <td>43169.376929</td>\n",
       "    </tr>\n",
       "    <tr>\n",
       "      <th>24</th>\n",
       "      <td>1274557567</td>\n",
       "      <td>43156.15</td>\n",
       "      <td>0.02321</td>\n",
       "      <td>1001.654242</td>\n",
       "      <td>1646092800045</td>\n",
       "      <td>True</td>\n",
       "      <td>True</td>\n",
       "      <td>43143.203155</td>\n",
       "      <td>43169.096845</td>\n",
       "    </tr>\n",
       "    <tr>\n",
       "      <th>...</th>\n",
       "      <td>...</td>\n",
       "      <td>...</td>\n",
       "      <td>...</td>\n",
       "      <td>...</td>\n",
       "      <td>...</td>\n",
       "      <td>...</td>\n",
       "      <td>...</td>\n",
       "      <td>...</td>\n",
       "      <td>...</td>\n",
       "    </tr>\n",
       "    <tr>\n",
       "      <th>2871273</th>\n",
       "      <td>1277428816</td>\n",
       "      <td>44734.74</td>\n",
       "      <td>0.03000</td>\n",
       "      <td>1342.042200</td>\n",
       "      <td>1646233096446</td>\n",
       "      <td>False</td>\n",
       "      <td>True</td>\n",
       "      <td>44721.319578</td>\n",
       "      <td>44748.160422</td>\n",
       "    </tr>\n",
       "    <tr>\n",
       "      <th>2871274</th>\n",
       "      <td>1277428817</td>\n",
       "      <td>44734.74</td>\n",
       "      <td>0.02864</td>\n",
       "      <td>1281.202954</td>\n",
       "      <td>1646233096450</td>\n",
       "      <td>False</td>\n",
       "      <td>True</td>\n",
       "      <td>44721.319578</td>\n",
       "      <td>44748.160422</td>\n",
       "    </tr>\n",
       "    <tr>\n",
       "      <th>2871280</th>\n",
       "      <td>1277428823</td>\n",
       "      <td>44736.04</td>\n",
       "      <td>0.08083</td>\n",
       "      <td>3616.014113</td>\n",
       "      <td>1646233096536</td>\n",
       "      <td>False</td>\n",
       "      <td>True</td>\n",
       "      <td>44722.619188</td>\n",
       "      <td>44749.460812</td>\n",
       "    </tr>\n",
       "    <tr>\n",
       "      <th>2871281</th>\n",
       "      <td>1277428824</td>\n",
       "      <td>44736.04</td>\n",
       "      <td>0.08864</td>\n",
       "      <td>3965.402586</td>\n",
       "      <td>1646233096536</td>\n",
       "      <td>False</td>\n",
       "      <td>True</td>\n",
       "      <td>44722.619188</td>\n",
       "      <td>44749.460812</td>\n",
       "    </tr>\n",
       "    <tr>\n",
       "      <th>2871284</th>\n",
       "      <td>1277428827</td>\n",
       "      <td>44737.46</td>\n",
       "      <td>0.20089</td>\n",
       "      <td>8987.308339</td>\n",
       "      <td>1646233096571</td>\n",
       "      <td>False</td>\n",
       "      <td>True</td>\n",
       "      <td>44724.038762</td>\n",
       "      <td>44750.881238</td>\n",
       "    </tr>\n",
       "  </tbody>\n",
       "</table>\n",
       "<p>819841 rows × 9 columns</p>\n",
       "</div>"
      ],
      "text/plain": [
       "           trade Id     price      qty     quoteQty           time  \\\n",
       "8        1274557551  43160.01  0.02358  1017.713036  1646092800010   \n",
       "9        1274557552  43160.01  0.02329  1005.196633  1646092800010   \n",
       "12       1274557555  43160.00  0.04072  1757.475200  1646092800045   \n",
       "22       1274557565  43156.43  0.02362  1019.354877  1646092800045   \n",
       "24       1274557567  43156.15  0.02321  1001.654242  1646092800045   \n",
       "...             ...       ...      ...          ...            ...   \n",
       "2871273  1277428816  44734.74  0.03000  1342.042200  1646233096446   \n",
       "2871274  1277428817  44734.74  0.02864  1281.202954  1646233096450   \n",
       "2871280  1277428823  44736.04  0.08083  3616.014113  1646233096536   \n",
       "2871281  1277428824  44736.04  0.08864  3965.402586  1646233096536   \n",
       "2871284  1277428827  44737.46  0.20089  8987.308339  1646233096571   \n",
       "\n",
       "         isBuyerMaker  isBestMatch     bid_quote     ask_quote  \n",
       "8               False         True  43147.061997  43172.958003  \n",
       "9               False         True  43147.061997  43172.958003  \n",
       "12               True         True  43147.052000  43172.948000  \n",
       "22               True         True  43143.483071  43169.376929  \n",
       "24               True         True  43143.203155  43169.096845  \n",
       "...               ...          ...           ...           ...  \n",
       "2871273         False         True  44721.319578  44748.160422  \n",
       "2871274         False         True  44721.319578  44748.160422  \n",
       "2871280         False         True  44722.619188  44749.460812  \n",
       "2871281         False         True  44722.619188  44749.460812  \n",
       "2871284         False         True  44724.038762  44750.881238  \n",
       "\n",
       "[819841 rows x 9 columns]"
      ]
     },
     "execution_count": 48,
     "metadata": {},
     "output_type": "execute_result"
    }
   ],
   "source": [
    "df"
   ]
  },
  {
   "cell_type": "code",
   "execution_count": 49,
   "metadata": {},
   "outputs": [],
   "source": [
    "buy_orders =[43147.061997]\n",
    "sell_orders=[43172.958003]"
   ]
  },
  {
   "cell_type": "code",
   "execution_count": 50,
   "metadata": {},
   "outputs": [],
   "source": [
    "def logic():\n",
    "\n",
    "    Net_Position=0 #For Calculation of Hedging Purposes\n",
    "    buy_orders =[43147.061997] # Bid_Order_Book\n",
    "    sell_orders=[43172.958003] # Ask_Order_Book\n",
    "\n",
    "    buying_trades=[] #Prices at which Btc was bought @ 1000USD \n",
    "    selling_trades=[] #Prices at which Btc was sold @ 1000USD \n",
    "    \n",
    "    total_trades=0 #Total Trades Done\n",
    "    for i in range(1,len(df['price'])):\n",
    "\n",
    "        buy_orders.sort()\n",
    "        sell_orders.sort()\n",
    "        \n",
    "\n",
    "        if (df['price'].iloc[i]<= buy_orders[-1] and Net_Position<5):  #If the current price goes lower than Bid_Order_Book\n",
    "            total_trades= total_trades+1\n",
    "            \n",
    "            Net_Position+=1\n",
    "            buying_trades.append(buy_orders[-1]) #Adding the Buying Trades Positions\n",
    "            buy_orders.pop(-1)\n",
    "            \n",
    "            if (len(sell_orders)<5):\n",
    "                \n",
    "                buy_orders.append(df['bid_quote'].iloc[i])    #Modifying the bids and asks\n",
    "                sell_orders.append(df['ask_quote'].iloc[i])\n",
    "                \n",
    "            \n",
    "            else:\n",
    "                buy_orders.append(df['bid_quote'].iloc[i])     #When 4000 usd trades are taken place on the side of buying\n",
    "\n",
    "                                                                #It starts Buying the farthest bids\n",
    "                sell_orders.pop(-1)\n",
    "                \n",
    "\n",
    "                \n",
    "                sell_orders.append(df['ask_quote'].iloc[i])\n",
    "\n",
    "            #print('Bid_Size =',buy_orders)\n",
    "            #print('Ask_Size =',sell_orders)\n",
    "            #print(\"LTP =\",df['price'].iloc[i])\n",
    "            #print(\".......................\")\n",
    "            #print(i)\n",
    "\n",
    "            \n",
    "\n",
    "        if (df['price'].iloc[i]>= sell_orders[0] and Net_Position>-5):\n",
    "            total_trades= total_trades+1\n",
    "            selling_trades.append(sell_orders[0])\n",
    "            Net_Position-=1\n",
    "            sell_orders.pop(0)\n",
    "            if (len(buy_orders)<5):\n",
    "                \n",
    "                buy_orders.append(df['bid_quote'].iloc[i])\n",
    "                sell_orders.append(df['ask_quote'].iloc[i])\n",
    "            \n",
    "            \n",
    "            else:    \n",
    "                sell_orders.append(df['ask_quote'].iloc[i])\n",
    "                \n",
    "                \n",
    "                buy_orders.pop(0)\n",
    "                \n",
    "\n",
    "                buy_orders.append(df['bid_quote'].iloc[i])\n",
    "\n",
    "\n",
    "            #print('Bid_Size =',buy_orders)\n",
    "            #print('Ask_Size =',sell_orders)\n",
    "            #print(\"LTP =\",df['price'].iloc[i])\n",
    "            #print(\".......................\")\n",
    "            #print(i)\n",
    "\n",
    "            \n",
    "\n",
    "        \n",
    "\n",
    "            \n",
    "        \n",
    "\n",
    "\n",
    "        \n",
    "        \n",
    "            \n",
    "\n",
    "        \n",
    "          \n",
    "                \n",
    "\n",
    "    print(i)\n",
    "    return total_trades,buying_trades,selling_trades"
   ]
  },
  {
   "cell_type": "code",
   "execution_count": 51,
   "metadata": {},
   "outputs": [
    {
     "name": "stdout",
     "output_type": "stream",
     "text": [
      "819840\n"
     ]
    }
   ],
   "source": [
    "Number_of_Trades, buying_trades, selling_trades=logic()"
   ]
  },
  {
   "cell_type": "code",
   "execution_count": 52,
   "metadata": {},
   "outputs": [
    {
     "name": "stdout",
     "output_type": "stream",
     "text": [
      "Total Number of Trades = 1815\n",
      "Money Invested = 1815000\n"
     ]
    }
   ],
   "source": [
    "print (\"Total Number of Trades =\",Number_of_Trades)\n",
    "print (\"Money Invested =\", Number_of_Trades*1000)"
   ]
  },
  {
   "cell_type": "code",
   "execution_count": 53,
   "metadata": {},
   "outputs": [
    {
     "data": {
      "text/plain": [
       "5"
      ]
     },
     "execution_count": 53,
     "metadata": {},
     "output_type": "execute_result"
    }
   ],
   "source": [
    "len(selling_trades)-len(buying_trades)"
   ]
  },
  {
   "cell_type": "code",
   "execution_count": 54,
   "metadata": {},
   "outputs": [],
   "source": [
    "data = {'Buying':buying_trades,\n",
    "        'Selling': selling_trades[5:]}\n"
   ]
  },
  {
   "cell_type": "code",
   "execution_count": 55,
   "metadata": {},
   "outputs": [],
   "source": [
    "result = pd.DataFrame(data,columns=['Buying','Selling'])"
   ]
  },
  {
   "cell_type": "code",
   "execution_count": 56,
   "metadata": {},
   "outputs": [],
   "source": [
    "result['diff']=result['Selling']-result['Buying']"
   ]
  },
  {
   "cell_type": "code",
   "execution_count": 57,
   "metadata": {},
   "outputs": [
    {
     "data": {
      "text/plain": [
       "1866.9047710010273"
      ]
     },
     "execution_count": 57,
     "metadata": {},
     "output_type": "execute_result"
    }
   ],
   "source": [
    "sum(result['diff'])"
   ]
  },
  {
   "cell_type": "code",
   "execution_count": 58,
   "metadata": {},
   "outputs": [
    {
     "name": "stderr",
     "output_type": "stream",
     "text": [
      "C:\\Users\\Anubhav\\AppData\\Local\\Programs\\Python\\Python39\\lib\\site-packages\\pandas\\core\\indexing.py:1732: SettingWithCopyWarning: \n",
      "A value is trying to be set on a copy of a slice from a DataFrame\n",
      "\n",
      "See the caveats in the documentation: https://pandas.pydata.org/pandas-docs/stable/user_guide/indexing.html#returning-a-view-versus-a-copy\n",
      "  self._setitem_single_block(indexer, value, name)\n"
     ]
    },
    {
     "data": {
      "text/html": [
       "<div>\n",
       "<style scoped>\n",
       "    .dataframe tbody tr th:only-of-type {\n",
       "        vertical-align: middle;\n",
       "    }\n",
       "\n",
       "    .dataframe tbody tr th {\n",
       "        vertical-align: top;\n",
       "    }\n",
       "\n",
       "    .dataframe thead th {\n",
       "        text-align: right;\n",
       "    }\n",
       "</style>\n",
       "<table border=\"1\" class=\"dataframe\">\n",
       "  <thead>\n",
       "    <tr style=\"text-align: right;\">\n",
       "      <th></th>\n",
       "      <th>Buying</th>\n",
       "      <th>Selling</th>\n",
       "      <th>diff</th>\n",
       "      <th>Money</th>\n",
       "    </tr>\n",
       "  </thead>\n",
       "  <tbody>\n",
       "    <tr>\n",
       "      <th>0</th>\n",
       "      <td>43187.020006</td>\n",
       "      <td>43184.341417</td>\n",
       "      <td>-2.678589</td>\n",
       "      <td>0.000000</td>\n",
       "    </tr>\n",
       "    <tr>\n",
       "      <th>1</th>\n",
       "      <td>43184.890645</td>\n",
       "      <td>43196.795152</td>\n",
       "      <td>11.904507</td>\n",
       "      <td>9.225918</td>\n",
       "    </tr>\n",
       "    <tr>\n",
       "      <th>2</th>\n",
       "      <td>43173.923936</td>\n",
       "      <td>43197.655410</td>\n",
       "      <td>23.731474</td>\n",
       "      <td>32.957392</td>\n",
       "    </tr>\n",
       "    <tr>\n",
       "      <th>3</th>\n",
       "      <td>43171.394695</td>\n",
       "      <td>43197.655410</td>\n",
       "      <td>26.260715</td>\n",
       "      <td>59.218107</td>\n",
       "    </tr>\n",
       "    <tr>\n",
       "      <th>4</th>\n",
       "      <td>43185.260534</td>\n",
       "      <td>43193.064033</td>\n",
       "      <td>7.803499</td>\n",
       "      <td>67.021606</td>\n",
       "    </tr>\n",
       "    <tr>\n",
       "      <th>...</th>\n",
       "      <td>...</td>\n",
       "      <td>...</td>\n",
       "      <td>...</td>\n",
       "      <td>...</td>\n",
       "    </tr>\n",
       "    <tr>\n",
       "      <th>900</th>\n",
       "      <td>43456.849033</td>\n",
       "      <td>43483.041000</td>\n",
       "      <td>26.191967</td>\n",
       "      <td>1735.310388</td>\n",
       "    </tr>\n",
       "    <tr>\n",
       "      <th>901</th>\n",
       "      <td>43463.577014</td>\n",
       "      <td>43490.343190</td>\n",
       "      <td>26.766176</td>\n",
       "      <td>1762.076564</td>\n",
       "    </tr>\n",
       "    <tr>\n",
       "      <th>902</th>\n",
       "      <td>43463.577014</td>\n",
       "      <td>43492.163736</td>\n",
       "      <td>28.586722</td>\n",
       "      <td>1790.663286</td>\n",
       "    </tr>\n",
       "    <tr>\n",
       "      <th>903</th>\n",
       "      <td>43457.518832</td>\n",
       "      <td>43492.483832</td>\n",
       "      <td>34.965000</td>\n",
       "      <td>1825.628286</td>\n",
       "    </tr>\n",
       "    <tr>\n",
       "      <th>904</th>\n",
       "      <td>43456.839036</td>\n",
       "      <td>43498.115521</td>\n",
       "      <td>41.276485</td>\n",
       "      <td>1866.904771</td>\n",
       "    </tr>\n",
       "  </tbody>\n",
       "</table>\n",
       "<p>905 rows × 4 columns</p>\n",
       "</div>"
      ],
      "text/plain": [
       "           Buying       Selling       diff        Money\n",
       "0    43187.020006  43184.341417  -2.678589     0.000000\n",
       "1    43184.890645  43196.795152  11.904507     9.225918\n",
       "2    43173.923936  43197.655410  23.731474    32.957392\n",
       "3    43171.394695  43197.655410  26.260715    59.218107\n",
       "4    43185.260534  43193.064033   7.803499    67.021606\n",
       "..            ...           ...        ...          ...\n",
       "900  43456.849033  43483.041000  26.191967  1735.310388\n",
       "901  43463.577014  43490.343190  26.766176  1762.076564\n",
       "902  43463.577014  43492.163736  28.586722  1790.663286\n",
       "903  43457.518832  43492.483832  34.965000  1825.628286\n",
       "904  43456.839036  43498.115521  41.276485  1866.904771\n",
       "\n",
       "[905 rows x 4 columns]"
      ]
     },
     "execution_count": 58,
     "metadata": {},
     "output_type": "execute_result"
    }
   ],
   "source": [
    "result['Money']=0\n",
    "result['Money'].iloc[1]=result['diff'].iloc[1]+result['diff'].iloc[0]\n",
    "for i in range(2,len(result)):\n",
    "    result['Money'].iloc[i]=result['diff'].iloc[i]+result['Money'].iloc[i-1]\n",
    "result"
   ]
  },
  {
   "cell_type": "code",
   "execution_count": 59,
   "metadata": {},
   "outputs": [
    {
     "name": "stdout",
     "output_type": "stream",
     "text": [
      "Maximum Drawdown= -2814.0232139992877\n"
     ]
    }
   ],
   "source": [
    "print (\"Maximum Drawdown=\", min(result['Money']))"
   ]
  },
  {
   "cell_type": "code",
   "execution_count": 60,
   "metadata": {},
   "outputs": [
    {
     "name": "stdout",
     "output_type": "stream",
     "text": [
      "PNL = 0.10285976699730177\n"
     ]
    }
   ],
   "source": [
    "print (\"PNL =\",sum(result['diff'])*100/(Number_of_Trades*1000))"
   ]
  },
  {
   "cell_type": "code",
   "execution_count": 61,
   "metadata": {},
   "outputs": [
    {
     "name": "stdout",
     "output_type": "stream",
     "text": [
      "Average Win= 16.214895861853662\n"
     ]
    }
   ],
   "source": [
    "wins_range=0\n",
    "win_count=0\n",
    "for i in range(len(result)):\n",
    "    \n",
    "    if (result['diff'].iloc[i]>0):\n",
    "        wins_range+=result['diff'].iloc[i]\n",
    "        win_count+=1\n",
    "\n",
    "print (\"Average Win=\",wins_range/win_count)"
   ]
  },
  {
   "cell_type": "code",
   "execution_count": 62,
   "metadata": {},
   "outputs": [
    {
     "name": "stdout",
     "output_type": "stream",
     "text": [
      "Average_Loss= -31.574566764924466\n"
     ]
    }
   ],
   "source": [
    "loss_range=0\n",
    "loss_count=0\n",
    "for i in range(len(result)):\n",
    "    \n",
    "    if (result['diff'].iloc[i]<0):\n",
    "        loss_range+=result['diff'].iloc[i]\n",
    "        loss_count+=1\n",
    "\n",
    "print (\"Average_Loss=\",loss_range/loss_count)"
   ]
  }
 ],
 "metadata": {
  "interpreter": {
   "hash": "1756915dda85bb946b629be2f32a348e486d6e88582590ce3224ff964c7a2b4d"
  },
  "kernelspec": {
   "display_name": "Python 3.9.6 64-bit",
   "language": "python",
   "name": "python3"
  },
  "language_info": {
   "codemirror_mode": {
    "name": "ipython",
    "version": 3
   },
   "file_extension": ".py",
   "mimetype": "text/x-python",
   "name": "python",
   "nbconvert_exporter": "python",
   "pygments_lexer": "ipython3",
   "version": "3.9.6"
  },
  "orig_nbformat": 4
 },
 "nbformat": 4,
 "nbformat_minor": 2
}
